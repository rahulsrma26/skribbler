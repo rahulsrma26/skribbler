{
 "cells": [
  {
   "cell_type": "code",
   "execution_count": null,
   "metadata": {},
   "outputs": [],
   "source": [
    "import os\n",
    "import glob\n",
    "from utils.word_db import WordDB\n",
    "\n",
    "wd = WordDB('resources/words.csv')\n",
    "print(len(wd.words))"
   ]
  },
  {
   "cell_type": "code",
   "execution_count": null,
   "metadata": {},
   "outputs": [],
   "source": [
    "files = {}\n",
    "for filepath in glob.glob(\"db/*.svg\"):\n",
    "    name, _ = os.path.splitext(os.path.basename(filepath))\n",
    "    files[name] = filepath\n",
    "print(len(files))"
   ]
  },
  {
   "cell_type": "code",
   "execution_count": null,
   "metadata": {},
   "outputs": [],
   "source": [
    "lst = []\n",
    "cnt, fwd = 0, 0\n",
    "for word in wd.words:\n",
    "    if word in files:\n",
    "        cnt += 1\n",
    "        lst.append(word)\n",
    "    if wd.image(word) in files:\n",
    "        fwd += 1\n",
    "print(f'{fwd} - {cnt} = {fwd-cnt}')\n",
    "c = fwd/len(wd.words)\n",
    "p = 1 - (1 - c)**3\n",
    "print(f'Coverage: {100*c:5.2f}%, Probability: {p*100:5.2f}%')"
   ]
  },
  {
   "cell_type": "code",
   "execution_count": null,
   "metadata": {},
   "outputs": [],
   "source": [
    "chk = set()\n",
    "for word in wd.words:\n",
    "    if word in chk:\n",
    "        print('duplicate', word)\n",
    "    else:\n",
    "        chk.add(word)\n",
    "\n",
    "for name in files:\n",
    "    if name not in wd.words:\n",
    "        print(f'Not used: {name}.svg')"
   ]
  }
 ],
 "metadata": {
  "interpreter": {
   "hash": "2d76a938c981de1713584c398436925a46ce152d26d3ea2af97ee7c96e32c5a8"
  },
  "kernelspec": {
   "display_name": "Python 3.8.2 64-bit ('py38': conda)",
   "language": "python",
   "name": "python3"
  },
  "language_info": {
   "codemirror_mode": {
    "name": "ipython",
    "version": 3
   },
   "file_extension": ".py",
   "mimetype": "text/x-python",
   "name": "python",
   "nbconvert_exporter": "python",
   "pygments_lexer": "ipython3",
   "version": "3.8.12"
  },
  "orig_nbformat": 4
 },
 "nbformat": 4,
 "nbformat_minor": 2
}
